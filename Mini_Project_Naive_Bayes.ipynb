{
 "cells": [
  {
   "cell_type": "markdown",
   "metadata": {},
   "source": [
    "# Basic Text Classification with Naive Bayes\n",
    "***\n",
    "In the mini-project, you'll learn the basics of text analysis using a subset of movie reviews from the rotten tomatoes database. You'll also use a fundamental technique in Bayesian inference, called Naive Bayes. This mini-project is based on [Lab 10 of Harvard's CS109](https://github.com/cs109/2015lab10) class.  Please free to go to the original lab for additional exercises and solutions."
   ]
  },
  {
   "cell_type": "code",
   "execution_count": 1,
   "metadata": {
    "collapsed": true
   },
   "outputs": [],
   "source": [
    "%matplotlib inline\n",
    "import numpy as np\n",
    "import scipy as sp\n",
    "import matplotlib as mpl\n",
    "import matplotlib.cm as cm\n",
    "import matplotlib.pyplot as plt\n",
    "import pandas as pd\n",
    "import seaborn as sns\n",
    "from six.moves import range\n",
    "\n",
    "# Setup Pandas\n",
    "pd.set_option('display.width', 500)\n",
    "pd.set_option('display.max_columns', 100)\n",
    "pd.set_option('display.notebook_repr_html', True)\n",
    "\n",
    "# Setup Seaborn\n",
    "sns.set_style(\"whitegrid\")\n",
    "sns.set_context(\"poster\")"
   ]
  },
  {
   "cell_type": "markdown",
   "metadata": {},
   "source": [
    "# Table of Contents\n",
    "\n",
    "* [Rotten Tomatoes Dataset](#Rotten-Tomatoes-Dataset)\n",
    "    * [Explore](#Explore)\n",
    "* [The Vector Space Model and a Search Engine](#The-Vector-Space-Model-and-a-Search-Engine)\n",
    "    * [In Code](#In-Code)\n",
    "* [Naive Bayes](#Naive-Bayes)\n",
    "    * [Multinomial Naive Bayes and Other Likelihood Functions](#Multinomial-Naive-Bayes-and-Other-Likelihood-Functions)\n",
    "    * [Picking Hyperparameters for Naive Bayes and Text Maintenance](#Picking-Hyperparameters-for-Naive-Bayes-and-Text-Maintenance)\n",
    "* [Interpretation](#Interpretation)\n"
   ]
  },
  {
   "cell_type": "markdown",
   "metadata": {},
   "source": [
    "## Rotten Tomatoes Dataset"
   ]
  },
  {
   "cell_type": "code",
   "execution_count": 2,
   "metadata": {},
   "outputs": [
    {
     "data": {
      "text/html": [
       "<div>\n",
       "<style>\n",
       "    .dataframe thead tr:only-child th {\n",
       "        text-align: right;\n",
       "    }\n",
       "\n",
       "    .dataframe thead th {\n",
       "        text-align: left;\n",
       "    }\n",
       "\n",
       "    .dataframe tbody tr th {\n",
       "        vertical-align: top;\n",
       "    }\n",
       "</style>\n",
       "<table border=\"1\" class=\"dataframe\">\n",
       "  <thead>\n",
       "    <tr style=\"text-align: right;\">\n",
       "      <th></th>\n",
       "      <th>critic</th>\n",
       "      <th>fresh</th>\n",
       "      <th>imdb</th>\n",
       "      <th>publication</th>\n",
       "      <th>quote</th>\n",
       "      <th>review_date</th>\n",
       "      <th>rtid</th>\n",
       "      <th>title</th>\n",
       "    </tr>\n",
       "  </thead>\n",
       "  <tbody>\n",
       "    <tr>\n",
       "      <th>1</th>\n",
       "      <td>Derek Adams</td>\n",
       "      <td>fresh</td>\n",
       "      <td>114709</td>\n",
       "      <td>Time Out</td>\n",
       "      <td>So ingenious in concept, design and execution ...</td>\n",
       "      <td>2009-10-04</td>\n",
       "      <td>9559</td>\n",
       "      <td>Toy story</td>\n",
       "    </tr>\n",
       "    <tr>\n",
       "      <th>2</th>\n",
       "      <td>Richard Corliss</td>\n",
       "      <td>fresh</td>\n",
       "      <td>114709</td>\n",
       "      <td>TIME Magazine</td>\n",
       "      <td>The year's most inventive comedy.</td>\n",
       "      <td>2008-08-31</td>\n",
       "      <td>9559</td>\n",
       "      <td>Toy story</td>\n",
       "    </tr>\n",
       "    <tr>\n",
       "      <th>3</th>\n",
       "      <td>David Ansen</td>\n",
       "      <td>fresh</td>\n",
       "      <td>114709</td>\n",
       "      <td>Newsweek</td>\n",
       "      <td>A winning animated feature that has something ...</td>\n",
       "      <td>2008-08-18</td>\n",
       "      <td>9559</td>\n",
       "      <td>Toy story</td>\n",
       "    </tr>\n",
       "    <tr>\n",
       "      <th>4</th>\n",
       "      <td>Leonard Klady</td>\n",
       "      <td>fresh</td>\n",
       "      <td>114709</td>\n",
       "      <td>Variety</td>\n",
       "      <td>The film sports a provocative and appealing st...</td>\n",
       "      <td>2008-06-09</td>\n",
       "      <td>9559</td>\n",
       "      <td>Toy story</td>\n",
       "    </tr>\n",
       "    <tr>\n",
       "      <th>5</th>\n",
       "      <td>Jonathan Rosenbaum</td>\n",
       "      <td>fresh</td>\n",
       "      <td>114709</td>\n",
       "      <td>Chicago Reader</td>\n",
       "      <td>An entertaining computer-generated, hyperreali...</td>\n",
       "      <td>2008-03-10</td>\n",
       "      <td>9559</td>\n",
       "      <td>Toy story</td>\n",
       "    </tr>\n",
       "  </tbody>\n",
       "</table>\n",
       "</div>"
      ],
      "text/plain": [
       "               critic  fresh    imdb     publication                                              quote review_date  rtid      title\n",
       "1         Derek Adams  fresh  114709        Time Out  So ingenious in concept, design and execution ...  2009-10-04  9559  Toy story\n",
       "2     Richard Corliss  fresh  114709   TIME Magazine                  The year's most inventive comedy.  2008-08-31  9559  Toy story\n",
       "3         David Ansen  fresh  114709        Newsweek  A winning animated feature that has something ...  2008-08-18  9559  Toy story\n",
       "4       Leonard Klady  fresh  114709         Variety  The film sports a provocative and appealing st...  2008-06-09  9559  Toy story\n",
       "5  Jonathan Rosenbaum  fresh  114709  Chicago Reader  An entertaining computer-generated, hyperreali...  2008-03-10  9559  Toy story"
      ]
     },
     "execution_count": 2,
     "metadata": {},
     "output_type": "execute_result"
    }
   ],
   "source": [
    "critics = pd.read_csv('./critics.csv')\n",
    "#let's drop rows with missing quotes\n",
    "critics = critics[~critics.quote.isnull()]\n",
    "critics.head()"
   ]
  },
  {
   "cell_type": "markdown",
   "metadata": {},
   "source": [
    "### Explore"
   ]
  },
  {
   "cell_type": "code",
   "execution_count": 3,
   "metadata": {},
   "outputs": [
    {
     "name": "stdout",
     "output_type": "stream",
     "text": [
      "Number of reviews: 15561\n",
      "Number of critics: 623\n",
      "Number of movies:  1921\n"
     ]
    }
   ],
   "source": [
    "n_reviews = len(critics)\n",
    "n_movies = critics.rtid.unique().size\n",
    "n_critics = critics.critic.unique().size\n",
    "\n",
    "\n",
    "print(\"Number of reviews: {:d}\".format(n_reviews))\n",
    "print(\"Number of critics: {:d}\".format(n_critics))\n",
    "print(\"Number of movies:  {:d}\".format(n_movies))"
   ]
  },
  {
   "cell_type": "code",
   "execution_count": 4,
   "metadata": {},
   "outputs": [
    {
     "data": {
      "image/png": "[encoded data removed]",
      "text/plain": [
       "<matplotlib.figure.Figure at 0x112234450>"
      ]
     },
     "metadata": {},
     "output_type": "display_data"
    }
   ],
   "source": [
    "df = critics.copy()\n",
    "df['fresh'] = df.fresh == 'fresh'\n",
    "grp = df.groupby('critic')\n",
    "counts = grp.critic.count()  # number of reviews by each critic\n",
    "means = grp.fresh.mean()     # average freshness for each critic\n",
    "\n",
    "means[counts > 100].hist(bins=10, edgecolor='w', lw=1)\n",
    "plt.xlabel(\"Average Rating per critic\")\n",
    "plt.ylabel(\"Number of Critics\")\n",
    "plt.yticks([0, 2, 4, 6, 8, 10]);"
   ]
  },
  {
   "cell_type": "markdown",
   "metadata": {},
   "source": [
    "<div class=\"span5 alert alert-info\">\n",
    "<h3>Exercise Set I</h3>\n",
    "<br/>\n",
    "<b>Exercise:</b> Look at the histogram above. Describe the average ratings per critic. What shape does the distribution look like? What is interesting about the distribution? What might explain these interesting things?\n",
    "</div>"
   ]
  },
  {
   "cell_type": "markdown",
   "metadata": {},
   "source": [
    "#### Answer:\n",
    "* Film reviews are largely bimodal across critics (i.e. critics appear to either like or dislike films but stray from neutral reviews. \n",
    "* The histogram appears to have a bimodal shape with mean ratings centered on 5 and 6."
   ]
  },
  {
   "cell_type": "markdown",
   "metadata": {},
   "source": [
    "## The Vector Space Model and a Search Engine"
   ]
  },
  {
   "cell_type": "markdown",
   "metadata": {},
   "source": [
    "All the diagrams here are snipped from [*Introduction to Information Retrieval* by Manning et. al.]( http://nlp.stanford.edu/IR-book/) which is a great resource on text processing. For additional information on text mining and natural language processing, see [*Foundations of Statistical Natural Language Processing* by Manning and Schutze](http://nlp.stanford.edu/fsnlp/).\n",
    "\n",
    "Also check out Python packages [`nltk`](http://www.nltk.org/), [`spaCy`](https://spacy.io/), [`pattern`](http://www.clips.ua.ac.be/pattern), and their associated resources. Also see [`word2vec`](https://en.wikipedia.org/wiki/Word2vec).\n",
    "\n",
    "Let us define the vector derived from document $d$ by $\\bar V(d)$. What does this mean? Each document is treated as a vector containing information about the words contained in it. Each vector has the same length and each entry \"slot\" in the vector contains some kind of data about the words that appear in the document such as presence/absence (1/0), count (an integer) or some other statistic. Each vector has the same length because each document shared the same vocabulary across the full collection of documents -- this collection is called a *corpus*.\n",
    "\n",
    "To define the vocabulary, we take a union of all words we have seen in all documents. We then just associate an array index with them. So \"hello\" may be at index 5 and \"world\" at index 99.\n",
    "\n",
    "Suppose we have the following corpus:\n",
    "\n",
    "`A Fox one day spied a beautiful bunch of ripe grapes hanging from a vine trained along the branches of a tree. The grapes seemed ready to burst with juice, and the Fox's mouth watered as he gazed longingly at them.`\n",
    "\n",
    "Suppose we treat each sentence as a document $d$. The vocabulary (often called the *lexicon*) is the following:\n",
    "\n",
    "$V = \\left\\{\\right.$ `a, along, and, as, at, beautiful, branches, bunch, burst, day, fox, fox's, from, gazed, grapes, hanging, he, juice, longingly, mouth, of, one, ready, ripe, seemed, spied, the, them, to, trained, tree, vine, watered, with`$\\left.\\right\\}$\n",
    "\n",
    "Then the document\n",
    "\n",
    "`A Fox one day spied a beautiful bunch of ripe grapes hanging from a vine trained along the branches of a tree`\n",
    "\n",
    "may be represented as the following sparse vector of word counts:\n",
    "\n",
    "$$\\bar V(d) = \\left( 4,1,0,0,0,1,1,1,0,1,1,0,1,0,1,1,0,0,0,0,2,1,0,1,0,0,1,0,0,0,1,1,0,0 \\right)$$\n",
    "\n",
    "or more succinctly as\n",
    "\n",
    "`[(0, 4), (1, 1), (5, 1), (6, 1), (7, 1), (9, 1), (10, 1), (12, 1), (14, 1), (15, 1), (20, 2), (21, 1), (23, 1),`\n",
    "`(26, 1), (30, 1), (31, 1)]`\n",
    "\n",
    "along with a dictionary\n",
    "\n",
    "``\n",
    "{\n",
    "    0: a, 1: along, 5: beautiful, 6: branches, 7: bunch, 9: day, 10: fox, 12: from, 14: grapes, \n",
    "    15: hanging, 19: mouth, 20: of, 21: one, 23: ripe, 24: seemed, 25: spied, 26: the, \n",
    "    30: tree, 31: vine, \n",
    "}\n",
    "``\n",
    "\n",
    "Then, a set of documents becomes, in the usual `sklearn` style, a sparse matrix with rows being sparse arrays representing documents and columns representing the features/words in the vocabulary.\n",
    "\n",
    "Notice that this representation loses the relative ordering of the terms in the document. That is \"cat ate rat\" and \"rat ate cat\" are the same. Thus, this representation is also known as the Bag-Of-Words representation.\n",
    "\n",
    "Here is another example, from the book quoted above, although the matrix is transposed here so that documents are columns:\n",
    "\n",
    "![novel terms](terms.png)\n",
    "\n",
    "Such a matrix is also catted a Term-Document Matrix. Here, the terms being indexed could be stemmed before indexing; for instance, `jealous` and `jealousy` after stemming are the same feature. One could also make use of other \"Natural Language Processing\" transformations in constructing the vocabulary. We could use Lemmatization, which reduces words to lemmas: work, working, worked would all reduce to work. We could remove \"stopwords\" from our vocabulary, such as common words like \"the\". We could look for particular parts of speech, such as adjectives. This is often done in Sentiment Analysis. And so on. It all depends on our application.\n",
    "\n",
    "From the book:\n",
    ">The standard way of quantifying the similarity between two documents $d_1$ and $d_2$  is to compute the cosine similarity of their vector representations $\\bar V(d_1)$ and $\\bar V(d_2)$:\n",
    "\n",
    "$$S_{12} = \\frac{\\bar V(d_1) \\cdot \\bar V(d_2)}{|\\bar V(d_1)| \\times |\\bar V(d_2)|}$$\n",
    "\n",
    "![Vector Space Model](vsm.png)\n",
    "\n",
    "\n",
    ">There is a far more compelling reason to represent documents as vectors: we can also view a query as a vector. Consider the query q = jealous gossip. This query turns into the unit vector $\\bar V(q)$ = (0, 0.707, 0.707) on the three coordinates below. \n",
    "\n",
    "![novel terms](terms2.png)\n",
    "\n",
    ">The key idea now: to assign to each document d a score equal to the dot product:\n",
    "\n",
    "$$\\bar V(q) \\cdot \\bar V(d)$$\n",
    "\n",
    "Then we can use this simple Vector Model as a Search engine."
   ]
  },
  {
   "cell_type": "markdown",
   "metadata": {},
   "source": [
    "### In Code"
   ]
  },
  {
   "cell_type": "code",
   "execution_count": 5,
   "metadata": {},
   "outputs": [
    {
     "name": "stdout",
     "output_type": "stream",
     "text": [
      "Original text is\n",
      "Hop on pop\n",
      "Hop off pop\n",
      "Hop Hop hop\n",
      "\n",
      "Transformed text vector is \n",
      "[[1 0 1 1]\n",
      " [1 1 0 1]\n",
      " [3 0 0 0]]\n",
      "\n",
      "Words for each feature:\n",
      "[u'hop', u'off', u'on', u'pop']\n"
     ]
    }
   ],
   "source": [
    "from sklearn.feature_extraction.text import CountVectorizer\n",
    "\n",
    "text = ['Hop on pop', 'Hop off pop', 'Hop Hop hop']\n",
    "print(\"Original text is\\n{}\".format('\\n'.join(text)))\n",
    "\n",
    "vectorizer = CountVectorizer(min_df=0)\n",
    "\n",
    "# call `fit` to build the vocabulary\n",
    "vectorizer.fit(text)\n",
    "\n",
    "# call `transform` to convert text to a bag of words\n",
    "x = vectorizer.transform(text)\n",
    "\n",
    "# CountVectorizer uses a sparse array to save memory, but it's easier in this assignment to \n",
    "# convert back to a \"normal\" numpy array\n",
    "x = x.toarray()\n",
    "\n",
    "print(\"\")\n",
    "print(\"Transformed text vector is \\n{}\".format(x))\n",
    "\n",
    "# `get_feature_names` tracks which word is associated with each column of the transformed x\n",
    "print(\"\")\n",
    "print(\"Words for each feature:\")\n",
    "print(vectorizer.get_feature_names())\n",
    "\n",
    "# Notice that the bag of words treatment doesn't preserve information about the *order* of words, \n",
    "# just their frequency"
   ]
  },
  {
   "cell_type": "code",
   "execution_count": 6,
   "metadata": {
    "collapsed": true
   },
   "outputs": [],
   "source": [
    "def make_xy(critics, vectorizer=None):\n",
    "    #Your code here    \n",
    "    if vectorizer is None:\n",
    "        vectorizer = CountVectorizer()\n",
    "    X = vectorizer.fit_transform(critics.quote)\n",
    "    X = X.tocsc()  # some versions of sklearn return COO format\n",
    "    y = (critics.fresh == 'fresh').values.astype(np.int)\n",
    "    return X, y\n",
    "X, y = make_xy(critics)"
   ]
  },
  {
   "cell_type": "markdown",
   "metadata": {},
   "source": [
    "## Naive Bayes"
   ]
  },
  {
   "cell_type": "markdown",
   "metadata": {},
   "source": [
    "From Bayes' Theorem, we have that\n",
    "\n",
    "$$P(c \\vert f) = \\frac{P(c \\cap f)}{P(f)}$$\n",
    "\n",
    "where $c$ represents a *class* or category, and $f$ represents a feature vector, such as $\\bar V(d)$ as above. **We are computing the probability that a document (or whatever we are classifying) belongs to category *c* given the features in the document.** $P(f)$ is really just a normalization constant, so the literature usually writes Bayes' Theorem in context of Naive Bayes as\n",
    "\n",
    "$$P(c \\vert f) \\propto P(f \\vert c) P(c) $$\n",
    "\n",
    "$P(c)$ is called the *prior* and is simply the probability of seeing class $c$. But what is $P(f \\vert c)$? This is the probability that we see feature set $f$ given that this document is actually in class $c$. This is called the *likelihood* and comes from the data. One of the major assumptions of the Naive Bayes model is that the features are *conditionally independent* given the class. While the presence of a particular discriminative word may uniquely identify the document as being part of class $c$ and thus violate general feature independence, conditional independence means that the presence of that term is independent of all the other words that appear *within that class*. This is a very important distinction. Recall that if two events are independent, then:\n",
    "\n",
    "$$P(A \\cap B) = P(A) \\cdot P(B)$$\n",
    "\n",
    "Thus, conditional independence implies\n",
    "\n",
    "$$P(f \\vert c)  = \\prod_i P(f_i | c) $$\n",
    "\n",
    "where $f_i$ is an individual feature (a word in this example).\n",
    "\n",
    "To make a classification, we then choose the class $c$ such that $P(c \\vert f)$ is maximal.\n",
    "\n",
    "There is a small caveat when computing these probabilities. For [floating point underflow](http://nlp.stanford.edu/IR-book/html/htmledition/naive-bayes-text-classification-1.html) we change the product into a sum by going into log space. This is called the LogSumExp trick. So:\n",
    "\n",
    "$$\\log P(f \\vert c)  = \\sum_i \\log P(f_i \\vert c) $$\n",
    "\n",
    "There is another caveat. What if we see a term that didn't exist in the training data? This means that $P(f_i \\vert c) = 0$ for that term, and thus $P(f \\vert c)  = \\prod_i P(f_i | c) = 0$, which doesn't help us at all. Instead of using zeros, we add a small negligible value called $\\alpha$ to each count. This is called Laplace Smoothing.\n",
    "\n",
    "$$P(f_i \\vert c) = \\frac{N_{ic}+\\alpha}{N_c + \\alpha N_i}$$\n",
    "\n",
    "where $N_{ic}$ is the number of times feature $i$ was seen in class $c$, $N_c$ is the number of times class $c$ was seen and $N_i$ is the number of times feature $i$ was seen globally. $\\alpha$ is sometimes called a regularization parameter."
   ]
  },
  {
   "cell_type": "markdown",
   "metadata": {},
   "source": [
    "### Multinomial Naive Bayes and Other Likelihood Functions\n",
    "\n",
    "Since we are modeling word counts, we are using variation of Naive Bayes called Multinomial Naive Bayes. This is because the likelihood function actually takes the form of the multinomial distribution.\n",
    "\n",
    "$$P(f \\vert c) = \\frac{\\left( \\sum_i f_i \\right)!}{\\prod_i f_i!} \\prod_{f_i} P(f_i \\vert c)^{f_i} \\propto \\prod_{i} P(f_i \\vert c)$$\n",
    "\n",
    "where the nasty term out front is absorbed as a normalization constant such that probabilities sum to 1.\n",
    "\n",
    "There are many other variations of Naive Bayes, all which depend on what type of value $f_i$ takes. If $f_i$ is continuous, we may be able to use *Gaussian Naive Bayes*. First compute the mean and variance for each class $c$. Then the likelihood, $P(f \\vert c)$ is given as follows\n",
    "\n",
    "$$P(f_i = v \\vert c) = \\frac{1}{\\sqrt{2\\pi \\sigma^2_c}} e^{- \\frac{\\left( v - \\mu_c \\right)^2}{2 \\sigma^2_c}}$$"
   ]
  },
  {
   "cell_type": "markdown",
   "metadata": {},
   "source": [
    "<div class=\"span5 alert alert-info\">\n",
    "<h3>Exercise Set II</h3>\n",
    "\n",
    "<p><b>Exercise:</b> Implement a simple Naive Bayes classifier:</p>\n",
    "\n",
    "<ol>\n",
    "<li> split the data set into a training and test set\n",
    "<li> Use `scikit-learn`'s `MultinomialNB()` classifier with default parameters.\n",
    "<li> train the classifier over the training set and test on the test set\n",
    "<li> print the accuracy scores for both the training and the test sets\n",
    "</ol>\n",
    "\n",
    "What do you notice? Is this a good classifier? If not, why not?\n",
    "</div>"
   ]
  },
  {
   "cell_type": "code",
   "execution_count": 7,
   "metadata": {
    "collapsed": true
   },
   "outputs": [],
   "source": [
    "from sklearn.preprocessing import LabelEncoder\n",
    "from sklearn.metrics import accuracy_score\n",
    "from sklearn.model_selection import train_test_split\n",
    "from sklearn.naive_bayes import MultinomialNB"
   ]
  },
  {
   "cell_type": "markdown",
   "metadata": {},
   "source": [
    "label = critics.fresh\n",
    "#features = critics.drop(['fresh'], axis = 1)\n",
    "features = critics.quote"
   ]
  },
  {
   "cell_type": "markdown",
   "metadata": {},
   "source": [
    "ohe = LabelEncoder()\n",
    "\n",
    "ohe.fit(label)\n",
    "label_ohe = ohe.transform(label)\n",
    "\n",
    "vect = CountVectorizer(min_df=0)\n",
    "vectorizer.fit(features)\n",
    "features_vect = vectorizer.transform(features)"
   ]
  },
  {
   "cell_type": "code",
   "execution_count": 8,
   "metadata": {
    "collapsed": true
   },
   "outputs": [],
   "source": [
    "X_train, X_test, y_train, y_test = train_test_split(X, y, test_size = .2, random_state = 42 )"
   ]
  },
  {
   "cell_type": "code",
   "execution_count": 9,
   "metadata": {},
   "outputs": [
    {
     "data": {
      "text/plain": [
       "MultinomialNB(alpha=1.0, class_prior=None, fit_prior=True)"
      ]
     },
     "execution_count": 9,
     "metadata": {},
     "output_type": "execute_result"
    }
   ],
   "source": [
    "mnb = MultinomialNB()\n",
    "mnb.fit(X_train, y_train)"
   ]
  },
  {
   "cell_type": "code",
   "execution_count": 10,
   "metadata": {},
   "outputs": [],
   "source": [
    "train_pred = mnb.predict(X_train)\n",
    "test_pred = mnb.predict(X_test)"
   ]
  },
  {
   "cell_type": "code",
   "execution_count": 11,
   "metadata": {
    "collapsed": true
   },
   "outputs": [],
   "source": [
    "ac_train = accuracy_score(y_train, train_pred)\n",
    "ac_test = accuracy_score(y_test, test_pred)"
   ]
  },
  {
   "cell_type": "code",
   "execution_count": 12,
   "metadata": {},
   "outputs": [
    {
     "name": "stdout",
     "output_type": "stream",
     "text": [
      "Accuracy score training set 0.9202281491\n",
      "Accuracy score test set 0.788949566335\n"
     ]
    }
   ],
   "source": [
    "print('Accuracy score training set {}'.format(ac_train))\n",
    "print('Accuracy score test set {}'.format(ac_test))"
   ]
  },
  {
   "cell_type": "code",
   "execution_count": 13,
   "metadata": {},
   "outputs": [
    {
     "data": {
      "text/plain": [
       "0.61040298699626627"
      ]
     },
     "execution_count": 13,
     "metadata": {},
     "output_type": "execute_result"
    }
   ],
   "source": [
    "a = critics.fresh.value_counts()[0].astype(float)\n",
    "b = critics.fresh.value_counts()[1].astype(float)\n",
    "a/(a+b)"
   ]
  },
  {
   "cell_type": "markdown",
   "metadata": {},
   "source": [
    "NB performs worse on the test set indicating overfitting during training."
   ]
  },
  {
   "cell_type": "markdown",
   "metadata": {},
   "source": [
    "### Picking Hyperparameters for Naive Bayes and Text Maintenance"
   ]
  },
  {
   "cell_type": "markdown",
   "metadata": {},
   "source": [
    "We need to know what value to use for $\\alpha$, and we also need to know which words to include in the vocabulary. As mentioned earlier, some words are obvious stopwords. Other words appear so infrequently that they serve as noise, and other words in addition to stopwords appear so frequently that they may also serve as noise."
   ]
  },
  {
   "cell_type": "markdown",
   "metadata": {},
   "source": [
    "First, let's find an appropriate value for `min_df` for the `CountVectorizer`. `min_df` can be either an integer or a float/decimal. If it is an integer, `min_df` represents the minimum number of documents a word must appear in for it to be included in the vocabulary. If it is a float, it represents the minimum *percentage* of documents a word must appear in to be included in the vocabulary. From the documentation:"
   ]
  },
  {
   "cell_type": "markdown",
   "metadata": {},
   "source": [
    ">min_df: When building the vocabulary ignore terms that have a document frequency strictly lower than the given threshold. This value is also called cut-off in the literature. If float, the parameter represents a proportion of documents, integer absolute counts. This parameter is ignored if vocabulary is not None."
   ]
  },
  {
   "cell_type": "markdown",
   "metadata": {},
   "source": [
    "<div class=\"span5 alert alert-info\">\n",
    "<h3>Exercise Set III</h3>\n",
    "\n",
    "<p><b>Exercise:</b> Construct the cumulative distribution of document frequencies (df). The $x$-axis is a document count $x_i$ and the $y$-axis is the percentage of words that appear less than $x_i$ times. For example, at $x=5$, plot a point representing the percentage or number of words that appear in 5 or fewer documents.</p>\n",
    "\n",
    "<p><b>Exercise:</b> Look for the point at which the curve begins climbing steeply. This may be a good value for `min_df`. If we were interested in also picking `max_df`, we would likely pick the value where the curve starts to plateau. What value did you choose?</p>\n",
    "</div>"
   ]
  },
  {
   "cell_type": "code",
   "execution_count": 14,
   "metadata": {},
   "outputs": [
    {
     "data": {
      "text/plain": [
       "(15561, 22417)"
      ]
     },
     "execution_count": 14,
     "metadata": {},
     "output_type": "execute_result"
    }
   ],
   "source": [
    "X.shape"
   ]
  },
  {
   "cell_type": "code",
   "execution_count": 15,
   "metadata": {},
   "outputs": [
    {
     "data": {
      "text/plain": [
       "(1, 22417)"
      ]
     },
     "execution_count": 15,
     "metadata": {},
     "output_type": "execute_result"
    }
   ],
   "source": [
    "X.sum(axis=0).shape"
   ]
  },
  {
   "cell_type": "code",
   "execution_count": 16,
   "metadata": {},
   "outputs": [
    {
     "data": {
      "text/plain": [
       "(1, 22417)"
      ]
     },
     "execution_count": 16,
     "metadata": {},
     "output_type": "execute_result"
    }
   ],
   "source": [
    "docs_word = X.sum(axis=0)\n",
    "docs_word.shape"
   ]
  },
  {
   "cell_type": "code",
   "execution_count": 17,
   "metadata": {
    "scrolled": false
   },
   "outputs": [
    {
     "data": {
      "text/plain": [
       "19338"
      ]
     },
     "execution_count": 17,
     "metadata": {},
     "output_type": "execute_result"
    }
   ],
   "source": [
    "Cumulative = {}\n",
    "\n",
    "for n in range(docs_word.max() + 1):\n",
    "    Cumulative[n] = np.sum(docs_word <= n)\n",
    "    \n",
    "Cumulative[10]"
   ]
  },
  {
   "cell_type": "code",
   "execution_count": 18,
   "metadata": {},
   "outputs": [
    {
     "data": {
      "text/plain": [
       "<matplotlib.collections.PathCollection at 0x111263250>"
      ]
     },
     "execution_count": 18,
     "metadata": {},
     "output_type": "execute_result"
    },
    {
     "data": {
      "image/png": "[encoded data removed]",
      "text/plain": [
       "<matplotlib.figure.Figure at 0x111bdc990>"
      ]
     },
     "metadata": {},
     "output_type": "display_data"
    }
   ],
   "source": [
    "plt.scatter(x=Cumulative.keys(), y=Cumulative.values())"
   ]
  },
  {
   "cell_type": "code",
   "execution_count": 19,
   "metadata": {},
   "outputs": [],
   "source": [
    "df_cumulative = pd.DataFrame(Cumulative, index = Cumulative.keys())"
   ]
  },
  {
   "cell_type": "code",
   "execution_count": 20,
   "metadata": {},
   "outputs": [
    {
     "data": {
      "text/html": [
       "<div>\n",
       "<style>\n",
       "    .dataframe thead tr:only-child th {\n",
       "        text-align: right;\n",
       "    }\n",
       "\n",
       "    .dataframe thead th {\n",
       "        text-align: left;\n",
       "    }\n",
       "\n",
       "    .dataframe tbody tr th {\n",
       "        vertical-align: top;\n",
       "    }\n",
       "</style>\n",
       "<table border=\"1\" class=\"dataframe\">\n",
       "  <thead>\n",
       "    <tr style=\"text-align: right;\">\n",
       "      <th></th>\n",
       "      <th>0</th>\n",
       "      <th>1</th>\n",
       "      <th>2</th>\n",
       "      <th>3</th>\n",
       "      <th>4</th>\n",
       "      <th>5</th>\n",
       "      <th>6</th>\n",
       "      <th>7</th>\n",
       "      <th>8</th>\n",
       "      <th>9</th>\n",
       "      <th>10</th>\n",
       "      <th>11</th>\n",
       "      <th>12</th>\n",
       "      <th>13</th>\n",
       "      <th>14</th>\n",
       "      <th>15</th>\n",
       "      <th>16</th>\n",
       "      <th>17</th>\n",
       "      <th>18</th>\n",
       "      <th>19</th>\n",
       "      <th>20</th>\n",
       "      <th>21</th>\n",
       "      <th>22</th>\n",
       "      <th>23</th>\n",
       "      <th>24</th>\n",
       "      <th>25</th>\n",
       "      <th>26</th>\n",
       "      <th>27</th>\n",
       "      <th>28</th>\n",
       "      <th>29</th>\n",
       "      <th>30</th>\n",
       "      <th>31</th>\n",
       "      <th>32</th>\n",
       "      <th>33</th>\n",
       "      <th>34</th>\n",
       "      <th>35</th>\n",
       "      <th>36</th>\n",
       "      <th>37</th>\n",
       "      <th>38</th>\n",
       "      <th>39</th>\n",
       "      <th>40</th>\n",
       "      <th>41</th>\n",
       "      <th>42</th>\n",
       "      <th>43</th>\n",
       "      <th>44</th>\n",
       "      <th>45</th>\n",
       "      <th>46</th>\n",
       "      <th>47</th>\n",
       "      <th>48</th>\n",
       "      <th>49</th>\n",
       "      <th>...</th>\n",
       "      <th>16756</th>\n",
       "      <th>16757</th>\n",
       "      <th>16758</th>\n",
       "      <th>16759</th>\n",
       "      <th>16760</th>\n",
       "      <th>16761</th>\n",
       "      <th>16762</th>\n",
       "      <th>16763</th>\n",
       "      <th>16764</th>\n",
       "      <th>16765</th>\n",
       "      <th>16766</th>\n",
       "      <th>16767</th>\n",
       "      <th>16768</th>\n",
       "      <th>16769</th>\n",
       "      <th>16770</th>\n",
       "      <th>16771</th>\n",
       "      <th>16772</th>\n",
       "      <th>16773</th>\n",
       "      <th>16774</th>\n",
       "      <th>16775</th>\n",
       "      <th>16776</th>\n",
       "      <th>16777</th>\n",
       "      <th>16778</th>\n",
       "      <th>16779</th>\n",
       "      <th>16780</th>\n",
       "      <th>16781</th>\n",
       "      <th>16782</th>\n",
       "      <th>16783</th>\n",
       "      <th>16784</th>\n",
       "      <th>16785</th>\n",
       "      <th>16786</th>\n",
       "      <th>16787</th>\n",
       "      <th>16788</th>\n",
       "      <th>16789</th>\n",
       "      <th>16790</th>\n",
       "      <th>16791</th>\n",
       "      <th>16792</th>\n",
       "      <th>16793</th>\n",
       "      <th>16794</th>\n",
       "      <th>16795</th>\n",
       "      <th>16796</th>\n",
       "      <th>16797</th>\n",
       "      <th>16798</th>\n",
       "      <th>16799</th>\n",
       "      <th>16800</th>\n",
       "      <th>16801</th>\n",
       "      <th>16802</th>\n",
       "      <th>16803</th>\n",
       "      <th>16804</th>\n",
       "      <th>16805</th>\n",
       "    </tr>\n",
       "  </thead>\n",
       "  <tbody>\n",
       "    <tr>\n",
       "      <th>0</th>\n",
       "      <td>0</td>\n",
       "      <td>9552</td>\n",
       "      <td>13038</td>\n",
       "      <td>14954</td>\n",
       "      <td>16213</td>\n",
       "      <td>17109</td>\n",
       "      <td>17743</td>\n",
       "      <td>18275</td>\n",
       "      <td>18690</td>\n",
       "      <td>19044</td>\n",
       "      <td>19338</td>\n",
       "      <td>19573</td>\n",
       "      <td>19785</td>\n",
       "      <td>19970</td>\n",
       "      <td>20146</td>\n",
       "      <td>20281</td>\n",
       "      <td>20385</td>\n",
       "      <td>20491</td>\n",
       "      <td>20581</td>\n",
       "      <td>20676</td>\n",
       "      <td>20753</td>\n",
       "      <td>20836</td>\n",
       "      <td>20911</td>\n",
       "      <td>20968</td>\n",
       "      <td>21016</td>\n",
       "      <td>21069</td>\n",
       "      <td>21122</td>\n",
       "      <td>21164</td>\n",
       "      <td>21212</td>\n",
       "      <td>21256</td>\n",
       "      <td>21301</td>\n",
       "      <td>21336</td>\n",
       "      <td>21364</td>\n",
       "      <td>21398</td>\n",
       "      <td>21434</td>\n",
       "      <td>21460</td>\n",
       "      <td>21487</td>\n",
       "      <td>21508</td>\n",
       "      <td>21526</td>\n",
       "      <td>21551</td>\n",
       "      <td>21570</td>\n",
       "      <td>21590</td>\n",
       "      <td>21613</td>\n",
       "      <td>21631</td>\n",
       "      <td>21652</td>\n",
       "      <td>21669</td>\n",
       "      <td>21686</td>\n",
       "      <td>21706</td>\n",
       "      <td>21716</td>\n",
       "      <td>21733</td>\n",
       "      <td>...</td>\n",
       "      <td>22416</td>\n",
       "      <td>22416</td>\n",
       "      <td>22416</td>\n",
       "      <td>22416</td>\n",
       "      <td>22416</td>\n",
       "      <td>22416</td>\n",
       "      <td>22416</td>\n",
       "      <td>22416</td>\n",
       "      <td>22416</td>\n",
       "      <td>22416</td>\n",
       "      <td>22416</td>\n",
       "      <td>22416</td>\n",
       "      <td>22416</td>\n",
       "      <td>22416</td>\n",
       "      <td>22416</td>\n",
       "      <td>22416</td>\n",
       "      <td>22416</td>\n",
       "      <td>22416</td>\n",
       "      <td>22416</td>\n",
       "      <td>22416</td>\n",
       "      <td>22416</td>\n",
       "      <td>22416</td>\n",
       "      <td>22416</td>\n",
       "      <td>22416</td>\n",
       "      <td>22416</td>\n",
       "      <td>22416</td>\n",
       "      <td>22416</td>\n",
       "      <td>22416</td>\n",
       "      <td>22416</td>\n",
       "      <td>22416</td>\n",
       "      <td>22416</td>\n",
       "      <td>22416</td>\n",
       "      <td>22416</td>\n",
       "      <td>22416</td>\n",
       "      <td>22416</td>\n",
       "      <td>22416</td>\n",
       "      <td>22416</td>\n",
       "      <td>22416</td>\n",
       "      <td>22416</td>\n",
       "      <td>22416</td>\n",
       "      <td>22416</td>\n",
       "      <td>22416</td>\n",
       "      <td>22416</td>\n",
       "      <td>22416</td>\n",
       "      <td>22416</td>\n",
       "      <td>22416</td>\n",
       "      <td>22416</td>\n",
       "      <td>22416</td>\n",
       "      <td>22416</td>\n",
       "      <td>22417</td>\n",
       "    </tr>\n",
       "    <tr>\n",
       "      <th>1</th>\n",
       "      <td>0</td>\n",
       "      <td>9552</td>\n",
       "      <td>13038</td>\n",
       "      <td>14954</td>\n",
       "      <td>16213</td>\n",
       "      <td>17109</td>\n",
       "      <td>17743</td>\n",
       "      <td>18275</td>\n",
       "      <td>18690</td>\n",
       "      <td>19044</td>\n",
       "      <td>19338</td>\n",
       "      <td>19573</td>\n",
       "      <td>19785</td>\n",
       "      <td>19970</td>\n",
       "      <td>20146</td>\n",
       "      <td>20281</td>\n",
       "      <td>20385</td>\n",
       "      <td>20491</td>\n",
       "      <td>20581</td>\n",
       "      <td>20676</td>\n",
       "      <td>20753</td>\n",
       "      <td>20836</td>\n",
       "      <td>20911</td>\n",
       "      <td>20968</td>\n",
       "      <td>21016</td>\n",
       "      <td>21069</td>\n",
       "      <td>21122</td>\n",
       "      <td>21164</td>\n",
       "      <td>21212</td>\n",
       "      <td>21256</td>\n",
       "      <td>21301</td>\n",
       "      <td>21336</td>\n",
       "      <td>21364</td>\n",
       "      <td>21398</td>\n",
       "      <td>21434</td>\n",
       "      <td>21460</td>\n",
       "      <td>21487</td>\n",
       "      <td>21508</td>\n",
       "      <td>21526</td>\n",
       "      <td>21551</td>\n",
       "      <td>21570</td>\n",
       "      <td>21590</td>\n",
       "      <td>21613</td>\n",
       "      <td>21631</td>\n",
       "      <td>21652</td>\n",
       "      <td>21669</td>\n",
       "      <td>21686</td>\n",
       "      <td>21706</td>\n",
       "      <td>21716</td>\n",
       "      <td>21733</td>\n",
       "      <td>...</td>\n",
       "      <td>22416</td>\n",
       "      <td>22416</td>\n",
       "      <td>22416</td>\n",
       "      <td>22416</td>\n",
       "      <td>22416</td>\n",
       "      <td>22416</td>\n",
       "      <td>22416</td>\n",
       "      <td>22416</td>\n",
       "      <td>22416</td>\n",
       "      <td>22416</td>\n",
       "      <td>22416</td>\n",
       "      <td>22416</td>\n",
       "      <td>22416</td>\n",
       "      <td>22416</td>\n",
       "      <td>22416</td>\n",
       "      <td>22416</td>\n",
       "      <td>22416</td>\n",
       "      <td>22416</td>\n",
       "      <td>22416</td>\n",
       "      <td>22416</td>\n",
       "      <td>22416</td>\n",
       "      <td>22416</td>\n",
       "      <td>22416</td>\n",
       "      <td>22416</td>\n",
       "      <td>22416</td>\n",
       "      <td>22416</td>\n",
       "      <td>22416</td>\n",
       "      <td>22416</td>\n",
       "      <td>22416</td>\n",
       "      <td>22416</td>\n",
       "      <td>22416</td>\n",
       "      <td>22416</td>\n",
       "      <td>22416</td>\n",
       "      <td>22416</td>\n",
       "      <td>22416</td>\n",
       "      <td>22416</td>\n",
       "      <td>22416</td>\n",
       "      <td>22416</td>\n",
       "      <td>22416</td>\n",
       "      <td>22416</td>\n",
       "      <td>22416</td>\n",
       "      <td>22416</td>\n",
       "      <td>22416</td>\n",
       "      <td>22416</td>\n",
       "      <td>22416</td>\n",
       "      <td>22416</td>\n",
       "      <td>22416</td>\n",
       "      <td>22416</td>\n",
       "      <td>22416</td>\n",
       "      <td>22417</td>\n",
       "    </tr>\n",
       "    <tr>\n",
       "      <th>2</th>\n",
       "      <td>0</td>\n",
       "      <td>9552</td>\n",
       "      <td>13038</td>\n",
       "      <td>14954</td>\n",
       "      <td>16213</td>\n",
       "      <td>17109</td>\n",
       "      <td>17743</td>\n",
       "      <td>18275</td>\n",
       "      <td>18690</td>\n",
       "      <td>19044</td>\n",
       "      <td>19338</td>\n",
       "      <td>19573</td>\n",
       "      <td>19785</td>\n",
       "      <td>19970</td>\n",
       "      <td>20146</td>\n",
       "      <td>20281</td>\n",
       "      <td>20385</td>\n",
       "      <td>20491</td>\n",
       "      <td>20581</td>\n",
       "      <td>20676</td>\n",
       "      <td>20753</td>\n",
       "      <td>20836</td>\n",
       "      <td>20911</td>\n",
       "      <td>20968</td>\n",
       "      <td>21016</td>\n",
       "      <td>21069</td>\n",
       "      <td>21122</td>\n",
       "      <td>21164</td>\n",
       "      <td>21212</td>\n",
       "      <td>21256</td>\n",
       "      <td>21301</td>\n",
       "      <td>21336</td>\n",
       "      <td>21364</td>\n",
       "      <td>21398</td>\n",
       "      <td>21434</td>\n",
       "      <td>21460</td>\n",
       "      <td>21487</td>\n",
       "      <td>21508</td>\n",
       "      <td>21526</td>\n",
       "      <td>21551</td>\n",
       "      <td>21570</td>\n",
       "      <td>21590</td>\n",
       "      <td>21613</td>\n",
       "      <td>21631</td>\n",
       "      <td>21652</td>\n",
       "      <td>21669</td>\n",
       "      <td>21686</td>\n",
       "      <td>21706</td>\n",
       "      <td>21716</td>\n",
       "      <td>21733</td>\n",
       "      <td>...</td>\n",
       "      <td>22416</td>\n",
       "      <td>22416</td>\n",
       "      <td>22416</td>\n",
       "      <td>22416</td>\n",
       "      <td>22416</td>\n",
       "      <td>22416</td>\n",
       "      <td>22416</td>\n",
       "      <td>22416</td>\n",
       "      <td>22416</td>\n",
       "      <td>22416</td>\n",
       "      <td>22416</td>\n",
       "      <td>22416</td>\n",
       "      <td>22416</td>\n",
       "      <td>22416</td>\n",
       "      <td>22416</td>\n",
       "      <td>22416</td>\n",
       "      <td>22416</td>\n",
       "      <td>22416</td>\n",
       "      <td>22416</td>\n",
       "      <td>22416</td>\n",
       "      <td>22416</td>\n",
       "      <td>22416</td>\n",
       "      <td>22416</td>\n",
       "      <td>22416</td>\n",
       "      <td>22416</td>\n",
       "      <td>22416</td>\n",
       "      <td>22416</td>\n",
       "      <td>22416</td>\n",
       "      <td>22416</td>\n",
       "      <td>22416</td>\n",
       "      <td>22416</td>\n",
       "      <td>22416</td>\n",
       "      <td>22416</td>\n",
       "      <td>22416</td>\n",
       "      <td>22416</td>\n",
       "      <td>22416</td>\n",
       "      <td>22416</td>\n",
       "      <td>22416</td>\n",
       "      <td>22416</td>\n",
       "      <td>22416</td>\n",
       "      <td>22416</td>\n",
       "      <td>22416</td>\n",
       "      <td>22416</td>\n",
       "      <td>22416</td>\n",
       "      <td>22416</td>\n",
       "      <td>22416</td>\n",
       "      <td>22416</td>\n",
       "      <td>22416</td>\n",
       "      <td>22416</td>\n",
       "      <td>22417</td>\n",
       "    </tr>\n",
       "    <tr>\n",
       "      <th>3</th>\n",
       "      <td>0</td>\n",
       "      <td>9552</td>\n",
       "      <td>13038</td>\n",
       "      <td>14954</td>\n",
       "      <td>16213</td>\n",
       "      <td>17109</td>\n",
       "      <td>17743</td>\n",
       "      <td>18275</td>\n",
       "      <td>18690</td>\n",
       "      <td>19044</td>\n",
       "      <td>19338</td>\n",
       "      <td>19573</td>\n",
       "      <td>19785</td>\n",
       "      <td>19970</td>\n",
       "      <td>20146</td>\n",
       "      <td>20281</td>\n",
       "      <td>20385</td>\n",
       "      <td>20491</td>\n",
       "      <td>20581</td>\n",
       "      <td>20676</td>\n",
       "      <td>20753</td>\n",
       "      <td>20836</td>\n",
       "      <td>20911</td>\n",
       "      <td>20968</td>\n",
       "      <td>21016</td>\n",
       "      <td>21069</td>\n",
       "      <td>21122</td>\n",
       "      <td>21164</td>\n",
       "      <td>21212</td>\n",
       "      <td>21256</td>\n",
       "      <td>21301</td>\n",
       "      <td>21336</td>\n",
       "      <td>21364</td>\n",
       "      <td>21398</td>\n",
       "      <td>21434</td>\n",
       "      <td>21460</td>\n",
       "      <td>21487</td>\n",
       "      <td>21508</td>\n",
       "      <td>21526</td>\n",
       "      <td>21551</td>\n",
       "      <td>21570</td>\n",
       "      <td>21590</td>\n",
       "      <td>21613</td>\n",
       "      <td>21631</td>\n",
       "      <td>21652</td>\n",
       "      <td>21669</td>\n",
       "      <td>21686</td>\n",
       "      <td>21706</td>\n",
       "      <td>21716</td>\n",
       "      <td>21733</td>\n",
       "      <td>...</td>\n",
       "      <td>22416</td>\n",
       "      <td>22416</td>\n",
       "      <td>22416</td>\n",
       "      <td>22416</td>\n",
       "      <td>22416</td>\n",
       "      <td>22416</td>\n",
       "      <td>22416</td>\n",
       "      <td>22416</td>\n",
       "      <td>22416</td>\n",
       "      <td>22416</td>\n",
       "      <td>22416</td>\n",
       "      <td>22416</td>\n",
       "      <td>22416</td>\n",
       "      <td>22416</td>\n",
       "      <td>22416</td>\n",
       "      <td>22416</td>\n",
       "      <td>22416</td>\n",
       "      <td>22416</td>\n",
       "      <td>22416</td>\n",
       "      <td>22416</td>\n",
       "      <td>22416</td>\n",
       "      <td>22416</td>\n",
       "      <td>22416</td>\n",
       "      <td>22416</td>\n",
       "      <td>22416</td>\n",
       "      <td>22416</td>\n",
       "      <td>22416</td>\n",
       "      <td>22416</td>\n",
       "      <td>22416</td>\n",
       "      <td>22416</td>\n",
       "      <td>22416</td>\n",
       "      <td>22416</td>\n",
       "      <td>22416</td>\n",
       "      <td>22416</td>\n",
       "      <td>22416</td>\n",
       "      <td>22416</td>\n",
       "      <td>22416</td>\n",
       "      <td>22416</td>\n",
       "      <td>22416</td>\n",
       "      <td>22416</td>\n",
       "      <td>22416</td>\n",
       "      <td>22416</td>\n",
       "      <td>22416</td>\n",
       "      <td>22416</td>\n",
       "      <td>22416</td>\n",
       "      <td>22416</td>\n",
       "      <td>22416</td>\n",
       "      <td>22416</td>\n",
       "      <td>22416</td>\n",
       "      <td>22417</td>\n",
       "    </tr>\n",
       "    <tr>\n",
       "      <th>4</th>\n",
       "      <td>0</td>\n",
       "      <td>9552</td>\n",
       "      <td>13038</td>\n",
       "      <td>14954</td>\n",
       "      <td>16213</td>\n",
       "      <td>17109</td>\n",
       "      <td>17743</td>\n",
       "      <td>18275</td>\n",
       "      <td>18690</td>\n",
       "      <td>19044</td>\n",
       "      <td>19338</td>\n",
       "      <td>19573</td>\n",
       "      <td>19785</td>\n",
       "      <td>19970</td>\n",
       "      <td>20146</td>\n",
       "      <td>20281</td>\n",
       "      <td>20385</td>\n",
       "      <td>20491</td>\n",
       "      <td>20581</td>\n",
       "      <td>20676</td>\n",
       "      <td>20753</td>\n",
       "      <td>20836</td>\n",
       "      <td>20911</td>\n",
       "      <td>20968</td>\n",
       "      <td>21016</td>\n",
       "      <td>21069</td>\n",
       "      <td>21122</td>\n",
       "      <td>21164</td>\n",
       "      <td>21212</td>\n",
       "      <td>21256</td>\n",
       "      <td>21301</td>\n",
       "      <td>21336</td>\n",
       "      <td>21364</td>\n",
       "      <td>21398</td>\n",
       "      <td>21434</td>\n",
       "      <td>21460</td>\n",
       "      <td>21487</td>\n",
       "      <td>21508</td>\n",
       "      <td>21526</td>\n",
       "      <td>21551</td>\n",
       "      <td>21570</td>\n",
       "      <td>21590</td>\n",
       "      <td>21613</td>\n",
       "      <td>21631</td>\n",
       "      <td>21652</td>\n",
       "      <td>21669</td>\n",
       "      <td>21686</td>\n",
       "      <td>21706</td>\n",
       "      <td>21716</td>\n",
       "      <td>21733</td>\n",
       "      <td>...</td>\n",
       "      <td>22416</td>\n",
       "      <td>22416</td>\n",
       "      <td>22416</td>\n",
       "      <td>22416</td>\n",
       "      <td>22416</td>\n",
       "      <td>22416</td>\n",
       "      <td>22416</td>\n",
       "      <td>22416</td>\n",
       "      <td>22416</td>\n",
       "      <td>22416</td>\n",
       "      <td>22416</td>\n",
       "      <td>22416</td>\n",
       "      <td>22416</td>\n",
       "      <td>22416</td>\n",
       "      <td>22416</td>\n",
       "      <td>22416</td>\n",
       "      <td>22416</td>\n",
       "      <td>22416</td>\n",
       "      <td>22416</td>\n",
       "      <td>22416</td>\n",
       "      <td>22416</td>\n",
       "      <td>22416</td>\n",
       "      <td>22416</td>\n",
       "      <td>22416</td>\n",
       "      <td>22416</td>\n",
       "      <td>22416</td>\n",
       "      <td>22416</td>\n",
       "      <td>22416</td>\n",
       "      <td>22416</td>\n",
       "      <td>22416</td>\n",
       "      <td>22416</td>\n",
       "      <td>22416</td>\n",
       "      <td>22416</td>\n",
       "      <td>22416</td>\n",
       "      <td>22416</td>\n",
       "      <td>22416</td>\n",
       "      <td>22416</td>\n",
       "      <td>22416</td>\n",
       "      <td>22416</td>\n",
       "      <td>22416</td>\n",
       "      <td>22416</td>\n",
       "      <td>22416</td>\n",
       "      <td>22416</td>\n",
       "      <td>22416</td>\n",
       "      <td>22416</td>\n",
       "      <td>22416</td>\n",
       "      <td>22416</td>\n",
       "      <td>22416</td>\n",
       "      <td>22416</td>\n",
       "      <td>22417</td>\n",
       "    </tr>\n",
       "  </tbody>\n",
       "</table>\n",
       "<p>5 rows × 16806 columns</p>\n",
       "</div>"
      ],
      "text/plain": [
       "   0      1      2      3      4      5      6      7      8      9      10     11     12     13     14     15     16     17     18     19     20     21     22     23     24     25     26     27     28     29     30     31     32     33     34     35     36     37     38     39     40     41     42     43     44     45     46     47     48     49     ...    16756  16757  16758  16759  16760  16761  16762  16763  16764  16765  16766  16767  16768  16769  16770  16771  16772  16773  16774  \\\n",
       "0      0   9552  13038  14954  16213  17109  17743  18275  18690  19044  19338  19573  19785  19970  20146  20281  20385  20491  20581  20676  20753  20836  20911  20968  21016  21069  21122  21164  21212  21256  21301  21336  21364  21398  21434  21460  21487  21508  21526  21551  21570  21590  21613  21631  21652  21669  21686  21706  21716  21733  ...    22416  22416  22416  22416  22416  22416  22416  22416  22416  22416  22416  22416  22416  22416  22416  22416  22416  22416  22416   \n",
       "1      0   9552  13038  14954  16213  17109  17743  18275  18690  19044  19338  19573  19785  19970  20146  20281  20385  20491  20581  20676  20753  20836  20911  20968  21016  21069  21122  21164  21212  21256  21301  21336  21364  21398  21434  21460  21487  21508  21526  21551  21570  21590  21613  21631  21652  21669  21686  21706  21716  21733  ...    22416  22416  22416  22416  22416  22416  22416  22416  22416  22416  22416  22416  22416  22416  22416  22416  22416  22416  22416   \n",
       "2      0   9552  13038  14954  16213  17109  17743  18275  18690  19044  19338  19573  19785  19970  20146  20281  20385  20491  20581  20676  20753  20836  20911  20968  21016  21069  21122  21164  21212  21256  21301  21336  21364  21398  21434  21460  21487  21508  21526  21551  21570  21590  21613  21631  21652  21669  21686  21706  21716  21733  ...    22416  22416  22416  22416  22416  22416  22416  22416  22416  22416  22416  22416  22416  22416  22416  22416  22416  22416  22416   \n",
       "3      0   9552  13038  14954  16213  17109  17743  18275  18690  19044  19338  19573  19785  19970  20146  20281  20385  20491  20581  20676  20753  20836  20911  20968  21016  21069  21122  21164  21212  21256  21301  21336  21364  21398  21434  21460  21487  21508  21526  21551  21570  21590  21613  21631  21652  21669  21686  21706  21716  21733  ...    22416  22416  22416  22416  22416  22416  22416  22416  22416  22416  22416  22416  22416  22416  22416  22416  22416  22416  22416   \n",
       "4      0   9552  13038  14954  16213  17109  17743  18275  18690  19044  19338  19573  19785  19970  20146  20281  20385  20491  20581  20676  20753  20836  20911  20968  21016  21069  21122  21164  21212  21256  21301  21336  21364  21398  21434  21460  21487  21508  21526  21551  21570  21590  21613  21631  21652  21669  21686  21706  21716  21733  ...    22416  22416  22416  22416  22416  22416  22416  22416  22416  22416  22416  22416  22416  22416  22416  22416  22416  22416  22416   \n",
       "\n",
       "   16775  16776  16777  16778  16779  16780  16781  16782  16783  16784  16785  16786  16787  16788  16789  16790  16791  16792  16793  16794  16795  16796  16797  16798  16799  16800  16801  16802  16803  16804  16805  \n",
       "0  22416  22416  22416  22416  22416  22416  22416  22416  22416  22416  22416  22416  22416  22416  22416  22416  22416  22416  22416  22416  22416  22416  22416  22416  22416  22416  22416  22416  22416  22416  22417  \n",
       "1  22416  22416  22416  22416  22416  22416  22416  22416  22416  22416  22416  22416  22416  22416  22416  22416  22416  22416  22416  22416  22416  22416  22416  22416  22416  22416  22416  22416  22416  22416  22417  \n",
       "2  22416  22416  22416  22416  22416  22416  22416  22416  22416  22416  22416  22416  22416  22416  22416  22416  22416  22416  22416  22416  22416  22416  22416  22416  22416  22416  22416  22416  22416  22416  22417  \n",
       "3  22416  22416  22416  22416  22416  22416  22416  22416  22416  22416  22416  22416  22416  22416  22416  22416  22416  22416  22416  22416  22416  22416  22416  22416  22416  22416  22416  22416  22416  22416  22417  \n",
       "4  22416  22416  22416  22416  22416  22416  22416  22416  22416  22416  22416  22416  22416  22416  22416  22416  22416  22416  22416  22416  22416  22416  22416  22416  22416  22416  22416  22416  22416  22416  22417  \n",
       "\n",
       "[5 rows x 16806 columns]"
      ]
     },
     "execution_count": 20,
     "metadata": {},
     "output_type": "execute_result"
    }
   ],
   "source": [
    "df_cumulative.head()"
   ]
  },
  {
   "cell_type": "markdown",
   "metadata": {},
   "source": [
    "#### Look for the point at which the curve begins climbing steeply. This may be a good value for min_df. If we were interested in also picking max_df, we would likely pick the value where the curve starts to plateau. What value did you choose?\n",
    "* Most words are contained in <=10 documents. min_df is appropriately set to zero."
   ]
  },
  {
   "cell_type": "markdown",
   "metadata": {},
   "source": [
    "The parameter $\\alpha$ is chosen to be a small value that simply avoids having zeros in the probability computations. This value can sometimes be chosen arbitrarily with domain expertise, but we will use K-fold cross validation. In K-fold cross-validation, we divide the data into $K$ non-overlapping parts. We train on $K-1$ of the folds and test on the remaining fold. We then iterate, so that each fold serves as the test fold exactly once. The function `cv_score` performs the K-fold cross-validation algorithm for us, but we need to pass a function that measures the performance of the algorithm on each fold. "
   ]
  },
  {
   "cell_type": "code",
   "execution_count": 21,
   "metadata": {
    "collapsed": true
   },
   "outputs": [],
   "source": [
    "from sklearn.model_selection import KFold\n",
    "def cv_score(clf, X, y, scorefunc):\n",
    "    result = 0.\n",
    "    nfold = 5\n",
    "    for train, test in KFold(nfold).split(X): # split data into train/test groups, 5 times\n",
    "        clf.fit(X[train], y[train]) # fit the classifier, passed is as clf.\n",
    "        result += scorefunc(clf, X[test], y[test]) # evaluate score function on held-out data\n",
    "    return result / nfold # average"
   ]
  },
  {
   "cell_type": "markdown",
   "metadata": {},
   "source": [
    "We use the log-likelihood as the score here in `scorefunc`. The higher the log-likelihood, the better. Indeed, what we do in `cv_score` above is to implement the cross-validation part of `GridSearchCV`.\n",
    "\n",
    "The custom scoring function `scorefunc` allows us to use different metrics depending on the decision risk we care about (precision, accuracy, profit etc.) directly on the validation set. You will often find people using `roc_auc`, precision, recall, or `F1-score` as the scoring function."
   ]
  },
  {
   "cell_type": "code",
   "execution_count": 22,
   "metadata": {
    "collapsed": true
   },
   "outputs": [],
   "source": [
    "def log_likelihood(clf, x, y):\n",
    "    prob = clf.predict_log_proba(x)\n",
    "    rotten = y == 0\n",
    "    fresh = ~rotten\n",
    "    return prob[rotten, 0].sum() + prob[fresh, 1].sum()"
   ]
  },
  {
   "cell_type": "markdown",
   "metadata": {},
   "source": [
    "We'll cross-validate over the regularization parameter $\\alpha$."
   ]
  },
  {
   "cell_type": "markdown",
   "metadata": {},
   "source": [
    "Let's set up the train and test masks first, and then we can run the cross-validation procedure."
   ]
  },
  {
   "cell_type": "code",
   "execution_count": 23,
   "metadata": {},
   "outputs": [],
   "source": [
    "from sklearn.model_selection import train_test_split\n",
    "_, itest = train_test_split(range(critics.shape[0]), train_size=0.7)\n",
    "mask = np.zeros(critics.shape[0], dtype=np.bool)\n",
    "mask[itest] = True"
   ]
  },
  {
   "cell_type": "markdown",
   "metadata": {},
   "source": [
    "<div class=\"span5 alert alert-info\">\n",
    "<h3>Exercise Set IV</h3>\n",
    "\n",
    "<p><b>Exercise:</b> What does using the function `log_likelihood` as the score mean? What are we trying to optimize for?</p>\n",
    "\n",
    "<p><b>Exercise:</b> Without writing any code, what do you think would happen if you choose a value of $\\alpha$ that is too high?</p>\n",
    "\n",
    "<p><b>Exercise:</b> Using the skeleton code below, find the best values of the parameter `alpha`, and use the value of `min_df` you chose in the previous exercise set. Use the `cv_score` function above with the `log_likelihood` function for scoring.</p>\n",
    "</div>"
   ]
  },
  {
   "cell_type": "code",
   "execution_count": 24,
   "metadata": {},
   "outputs": [],
   "source": [
    "from sklearn.naive_bayes import MultinomialNB\n",
    "\n",
    "LL = {}\n",
    "\n",
    "#the grid of parameters to search over\n",
    "alphas = [.1, 1, 5, 10, 50]\n",
    "best_min_df = 0 # YOUR TURN: put your value of min_df here.\n",
    "\n",
    "#Find the best value for alpha and min_df, and the best classifier\n",
    "best_alpha = None\n",
    "maxscore=-np.inf\n",
    "for alpha in alphas:        \n",
    "    vectorizer = CountVectorizer(min_df=best_min_df)       \n",
    "    Xthis, ythis = make_xy(critics, vectorizer)\n",
    "    Xtrainthis = Xthis[mask]\n",
    "    ytrainthis = ythis[mask]\n",
    "    \n",
    "    NBthis = MultinomialNB(alpha=alpha)\n",
    "    NBthis.fit(Xtrainthis, ytrainthis)\n",
    "    \n",
    "    LL[alpha] = log_likelihood(NBthis, Xtrainthis, ytrainthis)\n",
    "    \n",
    "best_alpha = max(alphas, key=lambda x: LL[x])"
   ]
  },
  {
   "cell_type": "code",
   "execution_count": 25,
   "metadata": {},
   "outputs": [
    {
     "name": "stdout",
     "output_type": "stream",
     "text": [
      "alpha: 0.1\n"
     ]
    }
   ],
   "source": [
    "print(\"alpha: {}\".format(best_alpha))"
   ]
  },
  {
   "cell_type": "markdown",
   "metadata": {},
   "source": [
    "### 1.\n",
    "The log_likelihood function gives the sum of the logs of the predicted probabilities of correct predictions (i.e. \"rotten\" or \"fresh\") using texts in the quoted (vectorized) reviews. "
   ]
  },
  {
   "cell_type": "markdown",
   "metadata": {},
   "source": [
    "### 2.\n",
    "If an alpha is set too high, probability estimates become close to 0.5. If it is set too low, probability estimates will become overconfident and potentially inaccurate, which will diminish your model performance. "
   ]
  },
  {
   "cell_type": "markdown",
   "metadata": {},
   "source": [
    "<div class=\"span5 alert alert-info\">\n",
    "<h3>Exercise Set V: Working with the Best Parameters</h3>\n",
    "\n",
    "<p><b>Exercise:</b> Using the best value of  `alpha` you just found, calculate the accuracy on the training and test sets. Is this classifier better? Why (not)?</p>\n",
    "\n",
    "</div>"
   ]
  },
  {
   "cell_type": "code",
   "execution_count": 26,
   "metadata": {},
   "outputs": [
    {
     "name": "stdout",
     "output_type": "stream",
     "text": [
      "Accuracy on training data: 0.971514\n",
      "Accuracy on test data:     0.720437\n"
     ]
    }
   ],
   "source": [
    "vectorizer = CountVectorizer(min_df=best_min_df)\n",
    "X, y = make_xy(critics, vectorizer)\n",
    "xtrain=X[mask]\n",
    "ytrain=y[mask]\n",
    "xtest=X[~mask]\n",
    "ytest=y[~mask]\n",
    "\n",
    "clf = MultinomialNB(alpha=best_alpha).fit(xtrain, ytrain)\n",
    "\n",
    "#your turn. Print the accuracy on the test and training dataset\n",
    "training_accuracy = clf.score(xtrain, ytrain)\n",
    "test_accuracy = clf.score(xtest, ytest)\n",
    "\n",
    "print(\"Accuracy on training data: {:2f}\".format(training_accuracy))\n",
    "print(\"Accuracy on test data:     {:2f}\".format(test_accuracy))"
   ]
  },
  {
   "cell_type": "code",
   "execution_count": 27,
   "metadata": {},
   "outputs": [
    {
     "name": "stdout",
     "output_type": "stream",
     "text": [
      "[[2707 1544]\n",
      " [1501 5140]]\n"
     ]
    }
   ],
   "source": [
    "from sklearn.metrics import confusion_matrix\n",
    "print(confusion_matrix(ytest, clf.predict(xtest)))"
   ]
  },
  {
   "cell_type": "markdown",
   "metadata": {},
   "source": [
    "## Interpretation"
   ]
  },
  {
   "cell_type": "markdown",
   "metadata": {},
   "source": [
    "### What are the strongly predictive features?\n",
    "\n",
    "We use a neat trick to identify strongly predictive features (i.e. words). \n",
    "\n",
    "* first, create a data set such that each row has exactly one feature. This is represented by the identity matrix.\n",
    "* use the trained classifier to make predictions on this matrix\n",
    "* sort the rows by predicted probabilities, and pick the top and bottom $K$ rows"
   ]
  },
  {
   "cell_type": "code",
   "execution_count": 28,
   "metadata": {},
   "outputs": [
    {
     "name": "stdout",
     "output_type": "stream",
     "text": [
      "Good words\t     P(fresh | word)\n",
      "('            surprise', '0.99')\n",
      "('             western', '0.99')\n",
      "('             delight', '0.99')\n",
      "('            ensemble', '0.99')\n",
      "('            succeeds', '0.99')\n",
      "('              rarely', '0.99')\n",
      "('             rousing', '0.99')\n",
      "('           innocence', '0.99')\n",
      "('            captures', '0.99')\n",
      "('           absorbing', '0.99')\n",
      "Bad words\t     P(fresh | word)\n",
      "('              barely', '0.02')\n",
      "('             trailer', '0.02')\n",
      "('               inept', '0.01')\n",
      "('             similar', '0.01')\n",
      "('         uninvolving', '0.01')\n",
      "('              unless', '0.01')\n",
      "('               sadly', '0.01')\n",
      "('              stupid', '0.01')\n",
      "('     disappointingly', '0.01')\n",
      "('                lame', '0.01')\n"
     ]
    }
   ],
   "source": [
    "words = np.array(vectorizer.get_feature_names())\n",
    "\n",
    "x = np.eye(xtest.shape[1])\n",
    "probs = clf.predict_log_proba(x)[:, 0]\n",
    "ind = np.argsort(probs)\n",
    "\n",
    "good_words = words[ind[:10]]\n",
    "bad_words = words[ind[-10:]]\n",
    "\n",
    "good_prob = probs[ind[:10]]\n",
    "bad_prob = probs[ind[-10:]]\n",
    "\n",
    "print(\"Good words\\t     P(fresh | word)\")\n",
    "for w, p in zip(good_words, good_prob):\n",
    "    print(\"{:>20}\".format(w), \"{:.2f}\".format(1 - np.exp(p)))\n",
    "    \n",
    "print(\"Bad words\\t     P(fresh | word)\")\n",
    "for w, p in zip(bad_words, bad_prob):\n",
    "    print(\"{:>20}\".format(w), \"{:.2f}\".format(1 - np.exp(p)))"
   ]
  },
  {
   "cell_type": "markdown",
   "metadata": {},
   "source": [
    "The top ranked words (i.e. highly, suprising, solid, hilarious, etc.) are highly predictive of favorable ('fresh') reviews."
   ]
  },
  {
   "cell_type": "markdown",
   "metadata": {},
   "source": [
    "<div class=\"span5 alert alert-info\">\n",
    "<h3>Exercise Set VI</h3>\n",
    "\n",
    "<p><b>Exercise:</b> Why does this method work? What does the probability for each row in the identity matrix represent</p>\n",
    "\n",
    "</div>"
   ]
  },
  {
   "cell_type": "markdown",
   "metadata": {},
   "source": [
    "The above exercise is an example of *feature selection*. There are many other feature selection methods. A list of feature selection methods available in `sklearn` is [here](http://scikit-learn.org/stable/modules/classes.html#module-sklearn.feature_selection). The most common feature selection technique for text mining is the chi-squared $\\left( \\chi^2 \\right)$ [method](http://nlp.stanford.edu/IR-book/html/htmledition/feature-selectionchi2-feature-selection-1.html)."
   ]
  },
  {
   "cell_type": "markdown",
   "metadata": {},
   "source": [
    "### Prediction Errors\n",
    "\n",
    "We can see mis-predictions as well."
   ]
  },
  {
   "cell_type": "code",
   "execution_count": 29,
   "metadata": {},
   "outputs": [
    {
     "name": "stdout",
     "output_type": "stream",
     "text": [
      "Mis-predicted Rotten quotes\n",
      "---------------------------\n",
      "Herzog offers some evidence of Kinski's great human warmth, somewhat more of his rage of unimaginable proportions, and a good demonstration of Kinski's uncanny capacity to corkscrew his way into the frame.\n",
      "\n",
      "Highly stylized fashion-wise but awkwardly unfocused in its plotlines, it aims for the western iconography of Sam Peckinpah and Sergio Leone but never gets past its own directorial hurdles.\n",
      "\n",
      "A bleak, annoyingly quirky Gen-X recasting of the When Harry Met Sally notion that true love is based on friendship.\n",
      "\n",
      "You won't find the pragmatic intelligence of Naylor's original stories here, but even cynics may be touched by the film's remarkably wholesome lessons about friendship, family and forgiveness.\n",
      "\n",
      "Model-turned-actress Jaime King changed her first name (from James) to star in Bulletproof Monk. Given her performance, she might have to enter the witness-protection program.\n",
      "\n",
      "Mis-predicted Fresh quotes\n",
      "--------------------------\n",
      "I saw this at a festival and hated it, then sat through it again a year later and decided it wasn't so bad, aside from the god-awful ending.\n",
      "\n",
      "An intense piece of wilderness ugliness that mixes family, honor, decency, revenge, racism and mindless blood lust in a manner that satisfies even if it never astounds.\n",
      "\n",
      "Basically I enjoyed Slums of Beverly Hills -- for the wisecracking, for the family squabbles, for the notion of squatters who stake a claim in a Beverly Hills where money, after all, is not the only currency.\n",
      "\n",
      "Sixty years after Walt Disney's animators first set cartoons to classical music, they've conjured up seven new sequences for Fantasia 2000. Judging from the often Mickey Mouse results, they may have been too hasty.\n",
      "\n",
      "A gooey, swooning swatch of romantic hyperventilation, its queasy charms. And let it be said that surrendering to those charms could be as guilt-inducing as polishing off a pint of Haagen-Dazs chocolate ice cream before lunch.\n",
      "\n"
     ]
    }
   ],
   "source": [
    "x, y = make_xy(critics, vectorizer)\n",
    "\n",
    "prob = clf.predict_proba(x)[:, 0]\n",
    "predict = clf.predict(x)\n",
    "\n",
    "bad_rotten = np.argsort(prob[y == 0])[:5]\n",
    "bad_fresh = np.argsort(prob[y == 1])[-5:]\n",
    "\n",
    "print(\"Mis-predicted Rotten quotes\")\n",
    "print('---------------------------')\n",
    "for row in bad_rotten:\n",
    "    print(critics[y == 0].quote.iloc[row])\n",
    "    print(\"\")\n",
    "\n",
    "print(\"Mis-predicted Fresh quotes\")\n",
    "print('--------------------------')\n",
    "for row in bad_fresh:\n",
    "    print(critics[y == 1].quote.iloc[row])\n",
    "    print(\"\")"
   ]
  },
  {
   "cell_type": "markdown",
   "metadata": {},
   "source": [
    "<div class=\"span5 alert alert-info\">\n",
    "<h3>Exercise Set VII: Predicting the Freshness for a New Review</h3>\n",
    "<br/>\n",
    "<div>\n",
    "<b>Exercise:</b>\n",
    "<ul>\n",
    "<li> Using your best trained classifier, predict the freshness of the following sentence: *'This movie is not remarkable, touching, or superb in any way'*\n",
    "<li> Is the result what you'd expect? Why (not)?\n",
    "</ul>\n",
    "</div>\n",
    "</div>"
   ]
  },
  {
   "cell_type": "code",
   "execution_count": 30,
   "metadata": {
    "collapsed": true
   },
   "outputs": [],
   "source": [
    "new_critic = ['This movie is not remarkable, touching, or superb in any way']"
   ]
  },
  {
   "cell_type": "code",
   "execution_count": 31,
   "metadata": {},
   "outputs": [],
   "source": [
    "new = vectorizer.transform(new_critic)"
   ]
  },
  {
   "cell_type": "code",
   "execution_count": 32,
   "metadata": {},
   "outputs": [
    {
     "data": {
      "text/plain": [
       "array([[  3.54377295e-04,   9.99645623e-01]])"
      ]
     },
     "execution_count": 32,
     "metadata": {},
     "output_type": "execute_result"
    }
   ],
   "source": [
    "mnb.predict_proba(new)"
   ]
  },
  {
   "cell_type": "markdown",
   "metadata": {},
   "source": [
    "#### Result\n",
    "The multinomial native bayes classifier gives this quote a 99.9% chance of being positive, which is innacurate given the sentence negations :P"
   ]
  },
  {
   "cell_type": "markdown",
   "metadata": {},
   "source": [
    "### Aside: TF-IDF Weighting for Term Importance\n",
    "\n",
    "TF-IDF stands for \n",
    "\n",
    "`Term-Frequency X Inverse Document Frequency`.\n",
    "\n",
    "In the standard `CountVectorizer` model above, we used just the term frequency in a document of words in our vocabulary. In TF-IDF, we weight this term frequency by the inverse of its popularity in all documents. For example, if the word \"movie\" showed up in all the documents, it would not have much predictive value. It could actually be considered a stopword. By weighing its counts by 1 divided by its overall frequency, we downweight it. We can then use this TF-IDF weighted features as inputs to any classifier. **TF-IDF is essentially a measure of term importance, and of how discriminative a word is in a corpus.** There are a variety of nuances involved in computing TF-IDF, mainly involving where to add the smoothing term to avoid division by 0, or log of 0 errors. The formula for TF-IDF in `scikit-learn` differs from that of most textbooks: \n",
    "\n",
    "$$\\mbox{TF-IDF}(t, d) = \\mbox{TF}(t, d)\\times \\mbox{IDF}(t) = n_{td} \\log{\\left( \\frac{\\vert D \\vert}{\\vert d : t \\in d \\vert} + 1 \\right)}$$\n",
    "\n",
    "where $n_{td}$ is the number of times term $t$ occurs in document $d$, $\\vert D \\vert$ is the number of documents, and $\\vert d : t \\in d \\vert$ is the number of documents that contain $t$"
   ]
  },
  {
   "cell_type": "code",
   "execution_count": 33,
   "metadata": {
    "collapsed": true
   },
   "outputs": [],
   "source": [
    "# http://scikit-learn.org/dev/modules/feature_extraction.html#text-feature-extraction\n",
    "# http://scikit-learn.org/dev/modules/classes.html#text-feature-extraction-ref\n",
    "from sklearn.feature_extraction.text import TfidfVectorizer\n",
    "tfidfvectorizer = TfidfVectorizer(min_df=1, stop_words='english')\n",
    "Xtfidf=tfidfvectorizer.fit_transform(critics.quote)"
   ]
  },
  {
   "cell_type": "markdown",
   "metadata": {},
   "source": [
    "<div class=\"span5 alert alert-info\">\n",
    "<h3>Exercise Set VIII: Enrichment</h3>\n",
    "\n",
    "<p>\n",
    "There are several additional things we could try. Try some of these as exercises:\n",
    "<ol>\n",
    "<li> Build a Naive Bayes model where the features are n-grams instead of words. N-grams are phrases containing n words next to each other: a bigram contains 2 words, a trigram contains 3 words, and 6-gram contains 6 words. This is useful because \"not good\" and \"so good\" mean very different things. On the other hand, as n increases, the model does not scale well since the feature set becomes more sparse.\n",
    "<li> Try a model besides Naive Bayes, one that would allow for interactions between words -- for example, a Random Forest classifier.\n",
    "<li> Try adding supplemental features -- information about genre, director, cast, etc.\n",
    "<li> Use word2vec or [Latent Dirichlet Allocation](https://en.wikipedia.org/wiki/Latent_Dirichlet_allocation) to group words into topics and use those topics for prediction.\n",
    "<li> Use TF-IDF weighting instead of word counts.\n",
    "</ol>\n",
    "</p>\n",
    "\n",
    "<b>Exercise:</b> Try a few of these ideas to improve the model (or any other ideas of your own). Implement here and report on the result.\n",
    "</div>"
   ]
  },
  {
   "cell_type": "code",
   "execution_count": 34,
   "metadata": {
    "collapsed": true
   },
   "outputs": [],
   "source": [
    "from sklearn.naive_bayes import MultinomialNB"
   ]
  },
  {
   "cell_type": "code",
   "execution_count": 35,
   "metadata": {},
   "outputs": [
    {
     "name": "stdout",
     "output_type": "stream",
     "text": [
      "n = 2\n",
      "The accuracy score for the test set is 0.672512\n",
      "The accuracy score for the training set is 0.994217\n",
      "n = 3\n",
      "The accuracy score for the test set is 0.544344\n",
      "The accuracy score for the training set is 0.991004\n",
      "n = 4\n",
      "The accuracy score for the test set is 0.471631\n",
      "The accuracy score for the training set is 0.985864\n"
     ]
    }
   ],
   "source": [
    "for n in range(2, 5):\n",
    "    vec = CountVectorizer(ngram_range=(n, n))\n",
    "    X, y = make_xy(critics, vectorizer=vec)\n",
    "    Xtrain, Xtest, ytrain, ytest = X[mask], X[~mask], y[mask], y[~mask]\n",
    "    NBM_2 = MultinomialNB()\n",
    "    NBM_2.fit(Xtrain, ytrain)\n",
    "    print \"n = %d\" %n\n",
    "    print \"The accuracy score for the test set is %f\" % NBM_2.score(Xtest, ytest)\n",
    "    print \"The accuracy score for the training set is %f\" % NBM_2.score(Xtrain, ytrain)"
   ]
  },
  {
   "cell_type": "markdown",
   "metadata": {},
   "source": [
    "Xn5, y5n5 = make_xy(critics, vectorizer=tfidfvectorizer)"
   ]
  },
  {
   "cell_type": "markdown",
   "metadata": {},
   "source": [
    "Xn5_train, Xn5_test, y5n5_train, y5n5_test = X5[mask], X5[~mask], y5[mask], y5[~mask]"
   ]
  },
  {
   "cell_type": "code",
   "execution_count": 36,
   "metadata": {
    "collapsed": true
   },
   "outputs": [],
   "source": [
    "from sklearn.naive_bayes import MultinomialNB"
   ]
  },
  {
   "cell_type": "code",
   "execution_count": 37,
   "metadata": {},
   "outputs": [
    {
     "name": "stdout",
     "output_type": "stream",
     "text": [
      "n = 2\n",
      "The accuracy score for the test set is 0.665993\n",
      "The accuracy score for the training set is 0.837867\n",
      "n = 3\n",
      "The accuracy score for the test set is 0.665993\n",
      "The accuracy score for the training set is 0.837867\n",
      "n = 4\n",
      "The accuracy score for the test set is 0.665993\n",
      "The accuracy score for the training set is 0.837867\n"
     ]
    }
   ],
   "source": [
    "for n in range(2, 5):\n",
    "    vec = CountVectorizer(ngram_range=(n, n))\n",
    "    X, y = make_xy(critics, vectorizer=tfidfvectorizer)\n",
    "    Xtrain, Xtest, ytrain, ytest = X[mask], X[~mask], y[mask], y[~mask]\n",
    "    NBM_3 = MultinomialNB()\n",
    "    NBM_3.fit(Xtrain, ytrain)\n",
    "    print \"n = %d\" %n\n",
    "    print \"The accuracy score for the test set is %f\" % NBM_3.score(Xtest, ytest)\n",
    "    print \"The accuracy score for the training set is %f\" % NBM_3.score(Xtrain, ytrain)"
   ]
  },
  {
   "cell_type": "code",
   "execution_count": null,
   "metadata": {
    "collapsed": true
   },
   "outputs": [],
   "source": []
  }
 ],
 "metadata": {
  "kernelspec": {
   "display_name": "Python [default]",
   "language": "python",
   "name": "python2"
  },
  "language_info": {
   "codemirror_mode": {
    "name": "ipython",
    "version": 2
   },
   "file_extension": ".py",
   "mimetype": "text/x-python",
   "name": "python",
   "nbconvert_exporter": "python",
   "pygments_lexer": "ipython2",
   "version": "2.7.13"
  }
 },
 "nbformat": 4,
 "nbformat_minor": 1
}
